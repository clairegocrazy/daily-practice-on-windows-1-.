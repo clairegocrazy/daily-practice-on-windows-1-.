{
 "cells": [
  {
   "cell_type": "code",
   "execution_count": null,
   "metadata": {},
   "outputs": [
    {
     "ename": "",
     "evalue": "",
     "output_type": "error",
     "traceback": [
      "\u001b[1;31mFailed to start the Kernel. \n",
      "\u001b[1;31mUnable to start Kernel 'Python 3.11.8' due to a connection timeout. \n",
      "\u001b[1;31mView Jupyter <a href='command:jupyter.viewOutput'>log</a> for further details."
     ]
    }
   ],
   "source": [
    "import matplotlib.pyplot as plt\n",
    "\n",
    "fig = plt.figure()\n",
    "axes=fig.add_subplot(1,1,1)\n",
    "x=[0,1,2]\n",
    "y=[3,4,5]\n",
    "axes.plot(x,y)\n",
    "plt.show()"
   ]
  },
  {
   "cell_type": "code",
   "execution_count": 2,
   "metadata": {},
   "outputs": [
    {
     "ename": "NameError",
     "evalue": "name 'plt' is not defined",
     "output_type": "error",
     "traceback": [
      "\u001b[1;31m---------------------------------------------------------------------------\u001b[0m",
      "\u001b[1;31mNameError\u001b[0m                                 Traceback (most recent call last)",
      "Cell \u001b[1;32mIn[2], line 1\u001b[0m\n\u001b[1;32m----> 1\u001b[0m fig\u001b[38;5;241m=\u001b[39m\u001b[43mplt\u001b[49m\u001b[38;5;241m.\u001b[39mfigure()\n\u001b[0;32m      2\u001b[0m ax1\u001b[38;5;241m=\u001b[39mfig\u001b[38;5;241m.\u001b[39madd_subplot(\u001b[38;5;241m1\u001b[39m,\u001b[38;5;241m3\u001b[39m,\u001b[38;5;241m1\u001b[39m)\n\u001b[0;32m      3\u001b[0m ax1\u001b[38;5;241m.\u001b[39mset_tittle(\u001b[38;5;124m\"\u001b[39m\u001b[38;5;124m1\u001b[39m\u001b[38;5;124m\"\u001b[39m)\n",
      "\u001b[1;31mNameError\u001b[0m: name 'plt' is not defined"
     ]
    }
   ],
   "source": [
    "fig=plt.figure()\n",
    "ax1=fig.add_subplot(1,3,1)\n",
    "ax1.set_tittle(\"1\")\n",
    "ax2=fig.add_subplot(1,3,2)\n",
    "ax2.set_tittle(\"2\")\n",
    "ax3=fig.add_subplot(1,3,3)\n",
    "ax3.set_tittle(\"3\")\n",
    "plt.show()"
   ]
  },
  {
   "cell_type": "code",
   "execution_count": 15,
   "metadata": {},
   "outputs": [
    {
     "ename": "ModuleNotFoundError",
     "evalue": "No module named 'matplotlib'",
     "output_type": "error",
     "traceback": [
      "\u001b[1;31m---------------------------------------------------------------------------\u001b[0m",
      "\u001b[1;31mModuleNotFoundError\u001b[0m                       Traceback (most recent call last)",
      "Cell \u001b[1;32mIn[15], line 1\u001b[0m\n\u001b[1;32m----> 1\u001b[0m \u001b[38;5;28;01mimport\u001b[39;00m \u001b[38;5;21;01mmatplotlib\u001b[39;00m\u001b[38;5;21;01m.\u001b[39;00m\u001b[38;5;21;01mpyplot\u001b[39;00m \u001b[38;5;28;01mas\u001b[39;00m \u001b[38;5;21;01mplt\u001b[39;00m\n\u001b[0;32m      2\u001b[0m figure\u001b[38;5;241m=\u001b[39mplt\u001b[38;5;241m.\u001b[39mfigure(figsize\u001b[38;5;241m=\u001b[39m(\u001b[38;5;241m8\u001b[39m,\u001b[38;5;241m5\u001b[39m))\n\u001b[0;32m      3\u001b[0m axes\u001b[38;5;241m=\u001b[39mfigure\u001b[38;5;241m.\u001b[39madd_subplot()\n",
      "\u001b[1;31mModuleNotFoundError\u001b[0m: No module named 'matplotlib'"
     ]
    }
   ],
   "source": [
    "import matplotlib.pyplot as plt\n",
    "figure=plt.figure(figsize=(8,5))\n",
    "axes=figure.add_subplot()\n",
    "axes.plot([-1,-4.3,15,21,31])\n",
    "plt.show()"
   ]
  },
  {
   "cell_type": "code",
   "execution_count": 1,
   "metadata": {},
   "outputs": [
    {
     "ename": "ModuleNotFoundError",
     "evalue": "No module named 'mamtplotlib'",
     "output_type": "error",
     "traceback": [
      "\u001b[1;31m---------------------------------------------------------------------------\u001b[0m",
      "\u001b[1;31mModuleNotFoundError\u001b[0m                       Traceback (most recent call last)",
      "Cell \u001b[1;32mIn[1], line 1\u001b[0m\n\u001b[1;32m----> 1\u001b[0m \u001b[38;5;28;01mimport\u001b[39;00m \u001b[38;5;21;01mmamtplotlib\u001b[39;00m\u001b[38;5;21;01m.\u001b[39;00m\u001b[38;5;21;01mpyplot\u001b[39;00m \u001b[38;5;28;01mas\u001b[39;00m \u001b[38;5;21;01mplt\u001b[39;00m\n\u001b[0;32m      3\u001b[0m student1\u001b[38;5;241m=\u001b[39m{\u001b[38;5;124m'\u001b[39m\u001b[38;5;124mchinese\u001b[39m\u001b[38;5;124m'\u001b[39m:\u001b[38;5;241m72\u001b[39m,\u001b[38;5;124m'\u001b[39m\u001b[38;5;124menglish\u001b[39m\u001b[38;5;124m'\u001b[39m:\u001b[38;5;241m100\u001b[39m,\u001b[38;5;124m'\u001b[39m\u001b[38;5;124mmath\u001b[39m\u001b[38;5;124m'\u001b[39m:\u001b[38;5;241m90\u001b[39m,\u001b[38;5;124m'\u001b[39m\u001b[38;5;124mscience\u001b[39m\u001b[38;5;124m'\u001b[39m:\u001b[38;5;241m90\u001b[39m,\u001b[38;5;124m'\u001b[39m\u001b[38;5;124mhistory\u001b[39m\u001b[38;5;124m'\u001b[39m:\u001b[38;5;241m66\u001b[39m}\n\u001b[0;32m      4\u001b[0m student2\u001b[38;5;241m=\u001b[39m{\u001b[38;5;124m'\u001b[39m\u001b[38;5;124mchinese\u001b[39m\u001b[38;5;124m'\u001b[39m:\u001b[38;5;241m88\u001b[39m,\u001b[38;5;124m'\u001b[39m\u001b[38;5;124menglish\u001b[39m\u001b[38;5;124m'\u001b[39m:\u001b[38;5;241m75\u001b[39m,\u001b[38;5;124m'\u001b[39m\u001b[38;5;124mmath\u001b[39m\u001b[38;5;124m'\u001b[39m:\u001b[38;5;241m61\u001b[39m,\u001b[38;5;124m'\u001b[39m\u001b[38;5;124mscience\u001b[39m\u001b[38;5;124m'\u001b[39m:\u001b[38;5;241m60\u001b[39m,\u001b[38;5;124m'\u001b[39m\u001b[38;5;124mhistory\u001b[39m\u001b[38;5;124m'\u001b[39m:\u001b[38;5;241m84\u001b[39m}\n",
      "\u001b[1;31mModuleNotFoundError\u001b[0m: No module named 'mamtplotlib'"
     ]
    }
   ],
   "source": [
    "import mamtplotlib.pyplot as plt\n",
    "\n",
    "student1={'chinese':72,'english':100,'math':90,'science':90,'history':66}\n",
    "student2={'chinese':88,'english':75,'math':61,'science':60,'history':84}\n",
    "\n",
    "subjects=list(student1.keys())\n",
    "\n",
    "scores1=list(student1.values())\n",
    "scores2=list(student2.values())\n",
    "\n",
    "figure=plt.figure(figsize=(8,5))\n",
    "axes=figure.add_subplot(1,1,1)\n",
    "axes.plot(subjects,scores1,'m-.')\n",
    "axes.plot(subjects,scores2,'c-o')\n",
    "plt.show()"
   ]
  },
  {
   "cell_type": "code",
   "execution_count": null,
   "metadata": {},
   "outputs": [],
   "source": [
    "import mamtplotlib.pyplot as plt\n",
    "\n",
    "student1={'chinese':72,'english':100,'math':90,'science':90,'history':66}\n",
    "student2={'chinese':88,'english':75,'math':61,'science':60,'history':84}\n",
    "\n",
    "subjects=list(student1.keys())\n",
    "\n",
    "scores1=list(student1.values())\n",
    "scores2=list(student2.values())\n",
    "\n",
    "figure=plt.figure(figsize=(8,5))\n",
    "#axes圖表\n",
    "axes=figure.add_subplot(1,1,1)\n",
    "axes.plot(subjects,scores1,'m-.')\n",
    "axes.plot(subjects,scores2,'c-o')\n",
    "print(axes.axis())\n",
    "axes.axis(xmin=1,xmax=3.5,ymin=80,ymax=93.6)\n",
    "plt.show()"
   ]
  },
  {
   "cell_type": "code",
   "execution_count": 2,
   "metadata": {},
   "outputs": [
    {
     "ename": "ModuleNotFoundError",
     "evalue": "No module named 'mamtplotlib'",
     "output_type": "error",
     "traceback": [
      "\u001b[1;31m---------------------------------------------------------------------------\u001b[0m",
      "\u001b[1;31mModuleNotFoundError\u001b[0m                       Traceback (most recent call last)",
      "Cell \u001b[1;32mIn[2], line 1\u001b[0m\n\u001b[1;32m----> 1\u001b[0m \u001b[38;5;28;01mimport\u001b[39;00m \u001b[38;5;21;01mmamtplotlib\u001b[39;00m\u001b[38;5;21;01m.\u001b[39;00m\u001b[38;5;21;01mpyplot\u001b[39;00m \u001b[38;5;28;01mas\u001b[39;00m \u001b[38;5;21;01mplt\u001b[39;00m\n\u001b[0;32m      3\u001b[0m student1\u001b[38;5;241m=\u001b[39m{\u001b[38;5;124m'\u001b[39m\u001b[38;5;124mchinese\u001b[39m\u001b[38;5;124m'\u001b[39m:\u001b[38;5;241m72\u001b[39m,\u001b[38;5;124m'\u001b[39m\u001b[38;5;124menglish\u001b[39m\u001b[38;5;124m'\u001b[39m:\u001b[38;5;241m100\u001b[39m,\u001b[38;5;124m'\u001b[39m\u001b[38;5;124mmath\u001b[39m\u001b[38;5;124m'\u001b[39m:\u001b[38;5;241m90\u001b[39m,\u001b[38;5;124m'\u001b[39m\u001b[38;5;124mscience\u001b[39m\u001b[38;5;124m'\u001b[39m:\u001b[38;5;241m90\u001b[39m,\u001b[38;5;124m'\u001b[39m\u001b[38;5;124mhistory\u001b[39m\u001b[38;5;124m'\u001b[39m:\u001b[38;5;241m66\u001b[39m}\n\u001b[0;32m      4\u001b[0m student2\u001b[38;5;241m=\u001b[39m{\u001b[38;5;124m'\u001b[39m\u001b[38;5;124mchinese\u001b[39m\u001b[38;5;124m'\u001b[39m:\u001b[38;5;241m88\u001b[39m,\u001b[38;5;124m'\u001b[39m\u001b[38;5;124menglish\u001b[39m\u001b[38;5;124m'\u001b[39m:\u001b[38;5;241m75\u001b[39m,\u001b[38;5;124m'\u001b[39m\u001b[38;5;124mmath\u001b[39m\u001b[38;5;124m'\u001b[39m:\u001b[38;5;241m61\u001b[39m,\u001b[38;5;124m'\u001b[39m\u001b[38;5;124mscience\u001b[39m\u001b[38;5;124m'\u001b[39m:\u001b[38;5;241m60\u001b[39m,\u001b[38;5;124m'\u001b[39m\u001b[38;5;124mhistory\u001b[39m\u001b[38;5;124m'\u001b[39m:\u001b[38;5;241m84\u001b[39m}\n",
      "\u001b[1;31mModuleNotFoundError\u001b[0m: No module named 'mamtplotlib'"
     ]
    }
   ],
   "source": [
    "import mamtplotlib.pyplot as plt\n",
    "\n",
    "student1={'chinese':72,'english':100,'math':90,'science':90,'history':66}\n",
    "student2={'chinese':88,'english':75,'math':61,'science':60,'history':84}\n",
    "\n",
    "subjects=list(student1.keys())\n",
    "\n",
    "scores1=list(student1.values())\n",
    "scores2=list(student2.values())\n",
    "\n",
    "figure=plt.figure(figsize=(8,5))\n",
    "#axes圖表\n",
    "axes=figure.add_subplot(1,1,1)\n",
    "axes.plot(subjects,scores1,'m-.')\n",
    "axes.plot(subjects,scores2,'c-o')\n",
    "xmin,xmax,ymin,ymax=axes.axis()\n",
    "axes.axis(xmin=xmin-1,xmax=xmax+1,ymin=ymin-10,ymax=ymax+10)\n",
    "plt.show()"
   ]
  },
  {
   "cell_type": "code",
   "execution_count": 3,
   "metadata": {},
   "outputs": [
    {
     "name": "stdout",
     "output_type": "stream",
     "text": [
      "[1, 2, 3, 4, 5, 6, 7, 8, 9, 10, 11, 12, 13, 14, 15, 16, 17, 18, 19, 20, 21, 22, 23, 24, 25, 26, 27, 28, 29, 30]\n",
      "[28.4, 18.4, 15.2, 16.3, 14.7, 34.6, 20.4, 23.3, 31.8, 21.7, 25.9, 21.7, 17.6, 33.5, 26.9, 17.9, 23.8, 29.8, 14.9, 15.7, 19.7, 33.7, 33.5, 32.3, 20.8, 15.1, 31.9, 12.9, 17.2, 25.0]\n"
     ]
    }
   ],
   "source": [
    "import random\n",
    "days = [num for num in range(1,31)]\n",
    "celsius = [round (random.uniform(12.5,35.2),ndigits=1) for _ in range(1,31)]\n",
    "print(days)\n",
    "print(celsius)"
   ]
  },
  {
   "cell_type": "code",
   "execution_count": null,
   "metadata": {},
   "outputs": [],
   "source": [
    "import matplotlib.pyplot as plt\n",
    "\n",
    "figure = plt.figure(figsize=(8,4))\n",
    "axes = figure.sdd_subplot()\n",
    "axes.plot(days,celsius,'r--.')\n",
    "#grid()\n",
    "axes.grid()\n",
    "#set_tittle()\n",
    "axes.set_tittle(\"july weather\")\n",
    "axes.set_xlabel(\"days\")\n",
    "axes.set_xlabel(\"celsius\")\n",
    "#改變x軸最小和最大顯示座標\n",
    "xmin,xmax = axes.get_xlim() \n",
    "axes.set_xlim(xmin=xmin-0.5,xmax=xmax+0.5)\n",
    "#改變y軸最小和最大顯示座標\n",
    "ymin,ymax=axes.get_xlim()\n",
    "axes.set_xlim(ymin=ymin,ymax=ymax+3)\n",
    "#重新設定x軸的刻度\n",
    "axes.set_xticks(days)\n",
    "plt.show()"
   ]
  }
 ],
 "metadata": {
  "kernelspec": {
   "display_name": "Python 3",
   "language": "python",
   "name": "python3"
  },
  "language_info": {
   "codemirror_mode": {
    "name": "ipython",
    "version": 3
   },
   "file_extension": ".py",
   "mimetype": "text/x-python",
   "name": "python",
   "nbconvert_exporter": "python",
   "pygments_lexer": "ipython3",
   "version": "3.11.9"
  }
 },
 "nbformat": 4,
 "nbformat_minor": 2
}
