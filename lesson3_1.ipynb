{
 "cells": [
  {
   "cell_type": "code",
   "execution_count": 2,
   "metadata": {},
   "outputs": [],
   "source": [
    "import math\n",
    "a=eval(input(\"請輸入直角三角形對邊:\"))\n",
    "b=eval(input(\"請輸入直角三角形斜邊\"))\n",
    "radian=math.asin(a/b)\n",
    "degree=math.degree(radian)\n",
    "print(f\"對邊是{a},斜邊是{b},角度是:{round(degree)}\")"
   ]
  },
  {
   "cell_type": "code",
   "execution_count": null,
   "metadata": {},
   "outputs": [
    {
     "name": "stdout",
     "output_type": "stream",
     "text": [
      "優等\n"
     ]
    }
   ],
   "source": [
    "chinese=int(input(\"請輸入學生國文分數:\"))\n",
    "if chinese>=80:\n",
    "    print(\"優等\")\n",
    "else:\n",
    "    if chinese>=60:\n",
    "        print(\"一般\")\n",
    "    else:\n",
    "        print(\"不及格\")    "
   ]
  },
  {
   "cell_type": "code",
   "execution_count": null,
   "metadata": {},
   "outputs": [
    {
     "name": "stdout",
     "output_type": "stream",
     "text": [
      "不及格\n"
     ]
    }
   ],
   "source": [
    "#多項選擇\n",
    "chinese=int(input(\"請輸入學生國文分數\"))\n",
    "if chinese>=80:\n",
    "    print(\"優等\")\n",
    "elif chinese>=60:\n",
    "    print(\"一般\")    \n",
    "else:\n",
    "    print(\"不及格\")"
   ]
  },
  {
   "cell_type": "code",
   "execution_count": null,
   "metadata": {},
   "outputs": [
    {
     "name": "stdout",
     "output_type": "stream",
     "text": [
      "甲\n"
     ]
    }
   ],
   "source": [
    "#多項選擇\n",
    "chinese=int(input(\"請輸入學生國文分數:\"))\n",
    "if chinese>=90:\n",
    "    print(\"優\")\n",
    "elif chinese>=80:\n",
    "    print(\"甲\")\n",
    "elif chinese>=70:\n",
    "    print(\"乙\")\n",
    "elif chinese>=60:\n",
    "    print(\"丙\")   \n",
    "else:\n",
    "    print(\"丁\")\n"
   ]
  },
  {
   "cell_type": "code",
   "execution_count": null,
   "metadata": {},
   "outputs": [
    {
     "name": "stdout",
     "output_type": "stream",
     "text": [
      "實付金額是:43350\n"
     ]
    }
   ],
   "source": [
    "money=int(input(\"請輸入顧客購買金額:\"))\n",
    "if money<1000:\n",
    "    payMoney=money\n",
    "elif money<=30000:\n",
    "    payMoney=money*0.95\n",
    "elif money<=50000: \n",
    "      payMoney=money*0.9\n",
    "elif money<100000:\n",
    "      payMoney=money*0.85\n",
    "else:\n",
    "        payMoney=money*0.8\n",
    "print(f\"實付金額是:{round(payMoney)}\")                     "
   ]
  },
  {
   "cell_type": "code",
   "execution_count": null,
   "metadata": {},
   "outputs": [
    {
     "name": "stdout",
     "output_type": "stream",
     "text": [
      "獎金為:1000\n"
     ]
    }
   ],
   "source": [
    "#使用邏輯運算子\n",
    "#多項選擇\n",
    "chinese=int(input(\"請輸入國文分數\"))\n",
    "math=int(input(\"請輸入數學分數\"))\n",
    "if chinese==100 and math==100:\n",
    "    \n",
    "        bonus=1000\n",
    "elif chinese==100 or math==100:\n",
    "        bonus=500\n",
    "else:\n",
    "    \n",
    "        bonus = 0\n",
    "print(f\"獎金為:{bonus}\")           "
   ]
  },
  {
   "cell_type": "code",
   "execution_count": null,
   "metadata": {},
   "outputs": [
    {
     "name": "stdout",
     "output_type": "stream",
     "text": [
      "您的BMI是25.46\n"
     ]
    }
   ],
   "source": [
    "height = eval(input('請輸入身高,單位為(公分):'))\n",
    "weight = eval(input('請輸入體重,單位為(公斤):'))\n",
    "\n",
    "bmi = weight / (height / 100) ** 2\n",
    "print(f'您的BMI是{round(bmi,ndigits=2)}')\n",
    "if bmi<18.5:\n",
    " print(\"太輕\")"
   ]
  },
  {
   "cell_type": "code",
   "execution_count": null,
   "metadata": {},
   "outputs": [
    {
     "name": "stdout",
     "output_type": "stream",
     "text": [
      "abcdefghijklmnopqrstuvwxyz"
     ]
    }
   ],
   "source": [
    "#明確知道執行的次數\n",
    "letters=\"abcdefghijklmnopqrstuvwxyz\"\n",
    "for le in letters:\n",
    "    print(le,end=\"\")"
   ]
  },
  {
   "cell_type": "code",
   "execution_count": null,
   "metadata": {},
   "outputs": [
    {
     "name": "stdout",
     "output_type": "stream",
     "text": [
      "1234"
     ]
    }
   ],
   "source": [
    "for i in range(1,5):\n",
    "    print(i,end=\"\")"
   ]
  },
  {
   "cell_type": "code",
   "execution_count": null,
   "metadata": {},
   "outputs": [],
   "source": [
    "#輸入起始和結束的加總\n",
    "start=int(input(\"請輸入起始點:\"))\n",
    "end=int(input(\"請輸入起始值:\"))\n",
    "total=0"
   ]
  },
  {
   "cell_type": "code",
   "execution_count": null,
   "metadata": {},
   "outputs": [],
   "source": [
    "#\n",
    "for i in range(1,13):\n",
    "    for j in range(1,10):\n",
    "        print(f'{i}*{j}={i*j}',end='\\t')\n",
    "    print()"
   ]
  },
  {
   "cell_type": "code",
   "execution_count": null,
   "metadata": {},
   "outputs": [
    {
     "name": "stdout",
     "output_type": "stream",
     "text": [
      "13579"
     ]
    }
   ],
   "source": [
    "for i in range(1,10,2):\n",
    "    print(i,end=\"\")"
   ]
  },
  {
   "cell_type": "code",
   "execution_count": null,
   "metadata": {},
   "outputs": [
    {
     "name": "stdout",
     "output_type": "stream",
     "text": [
      "恭喜!已經存夠了,共存了35000元\n"
     ]
    }
   ],
   "source": [
    " # 小明想要存錢買一輛機車,機車每輛30000元，他將每月存的錢輸入，當存款足夠買機車時，就顯示提示訊息告知。\n",
    "\n",
    "deposit = 0\n",
    "\n",
    "while(deposit < 30000):\n",
    "    input_value = int(input(\"請輸入這個月份的存款:\"))\n",
    "    deposit += input_value\n",
    "\n",
    "print(f\"恭喜!已經存夠了,共存了{deposit}元\")"
   ]
  },
  {
   "cell_type": "code",
   "execution_count": null,
   "metadata": {},
   "outputs": [
    {
     "name": "stdout",
     "output_type": "stream",
     "text": [
      "恭喜!已經存夠了,存了1月份共存了32000元\n"
     ]
    }
   ],
   "source": [
    "# 小明想要存錢買一輛機車,機車每輛30000元，他將每月存的錢輸入，當存款足夠買機車時，就顯示提示訊息告知。\n",
    "deposit=0\n",
    "month_count=0\n",
    "while(deposit<30000):\n",
    "    month_count+=1\n",
    "    input=int(input(f\"請輸入第{month_count}月份的存款:\"))\n",
    "    deposit += input_value\n",
    "\n",
    "print(f\"恭喜!已經存夠了,存了{month_count}月份共存了{deposit}元\")"
   ]
  },
  {
   "cell_type": "code",
   "execution_count": null,
   "metadata": {},
   "outputs": [
    {
     "data": {
      "text/plain": [
       "0.2679539936415479"
      ]
     },
     "execution_count": 63,
     "metadata": {},
     "output_type": "execute_result"
    }
   ],
   "source": [
    "import random\n",
    "\n",
    "random.random()"
   ]
  },
  {
   "cell_type": "code",
   "execution_count": null,
   "metadata": {},
   "outputs": [
    {
     "data": {
      "text/plain": [
       "132"
      ]
     },
     "execution_count": 112,
     "metadata": {},
     "output_type": "execute_result"
    }
   ],
   "source": [
    "#產生0~200的亂數\n",
    "min=0\n",
    "max=200\n",
    "target=random.randint(min,max)\n",
    "target"
   ]
  },
  {
   "cell_type": "code",
   "execution_count": null,
   "metadata": {},
   "outputs": [
    {
     "name": "stdout",
     "output_type": "stream",
     "text": [
      "===========猜數字遊戲===============\n",
      "\n"
     ]
    },
    {
     "ename": "TypeError",
     "evalue": "'int' object is not callable",
     "output_type": "error",
     "traceback": [
      "\u001b[1;31m---------------------------------------------------------------------------\u001b[0m",
      "\u001b[1;31mTypeError\u001b[0m                                 Traceback (most recent call last)",
      "Cell \u001b[1;32mIn[113], line 8\u001b[0m\n\u001b[0;32m      6\u001b[0m \u001b[39mprint\u001b[39m(\u001b[39m\"\u001b[39m\u001b[39m===========猜數字遊戲===============\u001b[39m\u001b[39m\\n\u001b[39;00m\u001b[39m\"\u001b[39m)\n\u001b[0;32m      7\u001b[0m \u001b[39mwhile\u001b[39;00m(\u001b[39mTrue\u001b[39;00m):\n\u001b[1;32m----> 8\u001b[0m     keyin \u001b[39m=\u001b[39m \u001b[39mint\u001b[39m(\u001b[39minput\u001b[39;49m(\u001b[39mf\u001b[39;49m\u001b[39m\"\u001b[39;49m\u001b[39m猜數字範圍\u001b[39;49m\u001b[39m{\u001b[39;49;00m\u001b[39mmin\u001b[39;49m\u001b[39m}\u001b[39;49;00m\u001b[39m~\u001b[39;49m\u001b[39m{\u001b[39;49;00m\u001b[39mmax\u001b[39;49m\u001b[39m}\u001b[39;49;00m\u001b[39m:\u001b[39;49m\u001b[39m\"\u001b[39;49m))\n\u001b[0;32m      9\u001b[0m     count \u001b[39m+\u001b[39m\u001b[39m=\u001b[39m \u001b[39m1\u001b[39m\n\u001b[0;32m     10\u001b[0m     \u001b[39mif\u001b[39;00m \u001b[39mmin\u001b[39m \u001b[39m<\u001b[39m\u001b[39m=\u001b[39m keyin \u001b[39m<\u001b[39m\u001b[39m=\u001b[39m \u001b[39mmax\u001b[39m :\n",
      "\u001b[1;31mTypeError\u001b[0m: 'int' object is not callable"
     ]
    }
   ],
   "source": [
    "#猜數字遊戲\n",
    "min = 1\n",
    "max = 100\n",
    "count = 0\n",
    "target = random.randint(min,max)\n",
    "print(\"===========猜數字遊戲===============\\n\")\n",
    "while(True):\n",
    "    keyin = int(input(f\"猜數字範圍{min}~{max}:\"))\n",
    "    count += 1\n",
    "    if min <= keyin <= max :\n",
    "        if keyin == target:\n",
    "            print(f\"賓果!猜對了, 答案是:{target}\")\n",
    "            print(f\"您猜了{count}次\")\n",
    "            break\n",
    "        elif (keyin > target):\n",
    "            print(\"再小一點\")\n",
    "            max = keyin - 1\n",
    "        elif (keyin < target):\n",
    "            print(\"再大一點\")\n",
    "            min = keyin + 1\n",
    "        print(f\"您已經猜了{count}次\")\n",
    "            \n",
    "    else:\n",
    "        print(\"請輸入提示範圍內的數字\")\n",
    "        continue\n",
    "    \n",
    "\n",
    "print(\"遊戲結束\")"
   ]
  }
 ],
 "metadata": {
  "kernelspec": {
   "display_name": "Python 3",
   "language": "python",
   "name": "python3"
  },
  "language_info": {
   "codemirror_mode": {
    "name": "ipython",
    "version": 3
   },
   "file_extension": ".py",
   "mimetype": "text/x-python",
   "name": "python",
   "nbconvert_exporter": "python",
   "pygments_lexer": "ipython3",
   "version": "3.11.9"
  },
  "orig_nbformat": 4,
  "vscode": {
   "interpreter": {
    "hash": "184e67dd3fb2caccf8100ae9ab52bcac6790e5f6b2d1629edfc67a1f6e874630"
   }
  }
 },
 "nbformat": 4,
 "nbformat_minor": 2
}
