{
 "cells": [
  {
   "cell_type": "code",
   "execution_count": null,
   "metadata": {},
   "outputs": [],
   "source": [
    "import numpy as np\n",
    "import pandas as pd\n",
    "url='https://raw.githubusercontent.com/roberthsu2003/PythonForDataAnalysis/master\n",
    "/%E4%B8%8A%E8%AA%B2%E5%85%A7%E5%AE%B9/%E6%98%9F%E6%9C%9F24_%E6%99%9A%E4%B8%8A%E7%8F%AD\n",
    "/%E6%AD%B7%E5%B9%B4%E5%9C%8B%E5%85%A7%E4%B8%BB%E8%A6%81%E8%A7%80%E5%85%89%E9%81%8A%E6%\n",
    "86%A9%E6%93%9A%E9%BB%9E%E9%81%8A%E5%AE%A2%E4%BA%BA%E6%95%B8%E6%9C%88%E5%88%A5%E7%B5%B1%E8%A8%88.csv'\n",
    "dataFrame=pd.read_csv(url,encoding='utf-8')\n",
    "dataFrame"
   ]
  },
  {
   "cell_type": "code",
   "execution_count": null,
   "metadata": {},
   "outputs": [],
   "source": [
    "dataFrame1=dataFrame.drop(columns=['類型','細分'])\n",
    "dataFrame1"
   ]
  },
  {
   "cell_type": "code",
   "execution_count": null,
   "metadata": {},
   "outputs": [],
   "source": [
    "dataFrame2=dataFrame1.set_index(['年別','縣市別','觀光遊憩區'])\n",
    "dataFrame2"
   ]
  },
  {
   "cell_type": "code",
   "execution_count": null,
   "metadata": {},
   "outputs": [],
   "source": [
    "#檢查資料\n",
    "#info()\n",
    "dataFrame2.info()"
   ]
  },
  {
   "cell_type": "code",
   "execution_count": null,
   "metadata": {},
   "outputs": [],
   "source": [
    "dataFrame3=dataFrame2.fillna(0)\n",
    "dataFrame3.info()"
   ]
  },
  {
   "cell_type": "code",
   "execution_count": null,
   "metadata": {},
   "outputs": [],
   "source": [
    "#每年份,每個月的總人數\n",
    "dataFrame3.groupby(by=\"年別\").sum()"
   ]
  },
  {
   "cell_type": "code",
   "execution_count": null,
   "metadata": {},
   "outputs": [],
   "source": [
    "#各縣市,每個月的總人數\n",
    "dataFrame3.groupby(by=\"縣市別\").sum()"
   ]
  },
  {
   "cell_type": "code",
   "execution_count": null,
   "metadata": {},
   "outputs": [],
   "source": [
    "#各觀光遊憩區,每個月的總人數\n",
    "dataFrame3.groupby(by=\"觀光遊憩區\").sum()"
   ]
  },
  {
   "cell_type": "code",
   "execution_count": null,
   "metadata": {},
   "outputs": [],
   "source": [
    "#每年份各縣市每個月的總人數\n",
    "dataFrame4=dataFrame3.groupby(by=['年別','縣市別']).sum()\n",
    "dataFrame4"
   ]
  },
  {
   "cell_type": "code",
   "execution_count": null,
   "metadata": {},
   "outputs": [],
   "source": [
    "dataFrame4.unstack(level='年別')"
   ]
  },
  {
   "cell_type": "code",
   "execution_count": null,
   "metadata": {},
   "outputs": [],
   "source": [
    "dataFrame5=dataFrame3.groupby(by=['年別','縣市別','觀光遊憩區']).sum()\n",
    "dataFrame5"
   ]
  },
  {
   "cell_type": "code",
   "execution_count": null,
   "metadata": {},
   "outputs": [],
   "source": [
    "dataFrame5.unstack(level='年別',fill_value=0)"
   ]
  }
 ],
 "metadata": {
  "language_info": {
   "name": "python"
  }
 },
 "nbformat": 4,
 "nbformat_minor": 2
}
