{
 "cells": [
  {
   "cell_type": "code",
   "execution_count": null,
   "metadata": {},
   "outputs": [],
   "source": [
    "#定義function\n",
    "def add_two(a,b):\n",
    "    return a+b\n",
    "\n",
    "def sub_two(a,b):\n",
    "    return a-b"
   ]
  },
  {
   "cell_type": "code",
   "execution_count": null,
   "metadata": {},
   "outputs": [],
   "source": [
    "#呼叫function\n",
    "add_two(10,20)\n",
    "sub_two(50,10)\n",
    "add_two(1.5,3.4)\n",
    "sub_two(3.5,7.5)"
   ]
  },
  {
   "cell_type": "code",
   "execution_count": null,
   "metadata": {},
   "outputs": [],
   "source": [
    "value=add_two(10,50)\n",
    "print(value)"
   ]
  },
  {
   "cell_type": "code",
   "execution_count": null,
   "metadata": {},
   "outputs": [],
   "source": [
    "#1個參數,沒有傳出值\n",
    "def say_hello(name):\n",
    "    print(f\"{name}您好\")\n",
    "\n",
    "say_hello(\"杜蘭特\")"
   ]
  },
  {
   "cell_type": "code",
   "execution_count": 1,
   "metadata": {},
   "outputs": [
    {
     "name": "stdout",
     "output_type": "stream",
     "text": [
      "您好\n"
     ]
    }
   ],
   "source": [
    "#沒有參數,沒有傳出值的\n",
    "def say_greet():\n",
    "    print(\"您好\")\n",
    "say_greet()"
   ]
  },
  {
   "cell_type": "code",
   "execution_count": null,
   "metadata": {},
   "outputs": [],
   "source": [
    "def play_game():\n",
    "    import random\n",
    "    min = 1\n",
    "    max = 100\n",
    "    count = 0\n",
    "    target = random.randint(min,max)\n",
    "    print(\"===========猜數字遊戲===============\\n\")\n",
    "    while(True):\n",
    "        keyin = int(input(f\"猜數字範圍{min}~{max}:\"))\n",
    "        count += 1\n",
    "        if min <= keyin <= max :\n",
    "            if keyin == target:\n",
    "                print(f\"賓果!猜對了, 答案是:{target}\")\n",
    "                print(f\"您猜了{count}次\")\n",
    "                break\n",
    "            elif (keyin > target):\n",
    "                print(\"再小一點\")\n",
    "                max = keyin - 1\n",
    "            elif (keyin < target):\n",
    "                print(\"再大一點\")\n",
    "                min = keyin + 1\n",
    "            print(f\"您已經猜了{count}次\")\n",
    "                \n",
    "        else:\n",
    "            print(\"請輸入提示範圍內的數字\")\n",
    "            continue\n",
    "        \n",
    "\n",
    "    print(\"遊戲結束\")"
   ]
  },
  {
   "cell_type": "code",
   "execution_count": null,
   "metadata": {},
   "outputs": [],
   "source": [
    "play_game()"
   ]
  }
 ],
 "metadata": {
  "kernelspec": {
   "display_name": "Python 3",
   "language": "python",
   "name": "python3"
  },
  "language_info": {
   "codemirror_mode": {
    "name": "ipython",
    "version": 3
   },
   "file_extension": ".py",
   "mimetype": "text/x-python",
   "name": "python",
   "nbconvert_exporter": "python",
   "pygments_lexer": "ipython3",
   "version": "3.11.3"
  },
  "orig_nbformat": 4,
  "vscode": {
   "interpreter": {
    "hash": "184e67dd3fb2caccf8100ae9ab52bcac6790e5f6b2d1629edfc67a1f6e874630"
   }
  }
 },
 "nbformat": 4,
 "nbformat_minor": 2
}
