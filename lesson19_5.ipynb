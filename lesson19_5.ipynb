{
 "cells": [
  {
   "cell_type": "code",
   "execution_count": null,
   "metadata": {},
   "outputs": [],
   "source": [
    "import pandas as pd\n",
    "import numpy as np\n",
    "import requests\n",
    "#每日進站人口數\n",
    "url='https://www.thsrc.com.tw/corp/9571df11-8524-4935-8a46-0d5a72e6bc7c'\n",
    "#車站基本資料集\n",
    "ur2='https://data.gov.tw/datasets/search?p=1&size=10&s=_score_desc&rtt=3612'\n",
    "response=request.get(url)\n",
    "jsonData=response.json()\n",
    "json"
   ]
  },
  {
   "cell_type": "code",
   "execution_count": null,
   "metadata": {},
   "outputs": [],
   "source": [
    "dataFrame=pd.DataFrame(jsonData)\n",
    "dataFrame.columns=['乘車日','車站代碼','進站人數','出站人數']\n",
    "dataFrame"
   ]
  },
  {
   "cell_type": "code",
   "execution_count": null,
   "metadata": {},
   "outputs": [],
   "source": [
    "response=requests.get(url2)\n",
    "stations_json=response.json()\n",
    "stations_json\n",
    "stations=pd.DataFrame(stations_json,columns=['stationCode','stationName'])\n",
    "stations.column=[\"車站代碼\",\"中文站名\"]\n",
    "stations"
   ]
  },
  {
   "cell_type": "code",
   "execution_count": null,
   "metadata": {},
   "outputs": [],
   "source": [
    "mergeFrame=pd.merge(left=dataFrame,right=stations,on='車站代碼',how='left')\n",
    "mergeFrame"
   ]
  },
  {
   "cell_type": "code",
   "execution_count": null,
   "metadata": {},
   "outputs": [],
   "source": [
    "mergeFrame.info()"
   ]
  },
  {
   "cell_type": "code",
   "execution_count": null,
   "metadata": {},
   "outputs": [],
   "source": [
    "#轉換欄位型別->astype()\n",
    "mergeFrame['進站人數']=mergeFrame['進站人數'].astype(int)\n",
    "mergeFrame['出站人數']=mergeFrame['出站人數'].astype(int)\n",
    "mergeFrame"
   ]
  },
  {
   "cell_type": "code",
   "execution_count": null,
   "metadata": {},
   "outputs": [],
   "source": [
    "mergeFrame.info()"
   ]
  },
  {
   "cell_type": "code",
   "execution_count": null,
   "metadata": {},
   "outputs": [],
   "source": [
    "mergeFrame.to_excel('excel1.xlsx')"
   ]
  },
  {
   "cell_type": "code",
   "execution_count": null,
   "metadata": {},
   "outputs": [],
   "source": [
    "#變成多個維度,欄轉換為index(level)\n",
    "mergeFrame1=mergeFrame.set_index(keys=[\"乘車日\",\"車站代碼\",\"中文站名\"])\n",
    "mergeFrame1"
   ]
  },
  {
   "cell_type": "code",
   "execution_count": null,
   "metadata": {},
   "outputs": [],
   "source": [
    "#unstack前,請將重複的groupby()\n",
    "mergeFrame1.unstack(level=\"中文站名\")"
   ]
  },
  {
   "cell_type": "code",
   "execution_count": null,
   "metadata": {},
   "outputs": [],
   "source": [
    "#unstack前,請將重複的groupby()\n",
    "#只groupby一個level,其他的level會被移除\n",
    "mergeFrame2=mergeFrame1.groupby(by=[\"乘車日\",\"中文站名\"]).sum()\n",
    "mergeFrame2"
   ]
  },
  {
   "cell_type": "code",
   "execution_count": null,
   "metadata": {},
   "outputs": [],
   "source": [
    "mergeFrame3=mergeFrame2.unstack(level=\"中文站名\")\n",
    "mergeFrame3"
   ]
  },
  {
   "cell_type": "code",
   "execution_count": null,
   "metadata": {},
   "outputs": [],
   "source": [
    "mergeFrame3.loc['20230101':'20230131'] "
   ]
  },
  {
   "cell_type": "code",
   "execution_count": null,
   "metadata": {},
   "outputs": [],
   "source": [
    "mergeFrame3.loc['20230101':'20230131'] [\"進站人數\"] "
   ]
  },
  {
   "cell_type": "code",
   "execution_count": null,
   "metadata": {},
   "outputs": [],
   "source": [
    "mergeFrame3.loc['20230101':'20230131'] [\"進站人數\"] [\"基隆\"] "
   ]
  }
 ],
 "metadata": {
  "language_info": {
   "name": "python"
  }
 },
 "nbformat": 4,
 "nbformat_minor": 2
}
