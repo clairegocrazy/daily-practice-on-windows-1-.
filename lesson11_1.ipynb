{
 "cells": [
  {
   "cell_type": "code",
   "execution_count": 2,
   "metadata": {},
   "outputs": [],
   "source": [
    "def menu(wine,entree,dessert)->dict:\n",
    "    return{'wine':wine,'entree':entree,'dessert':dessert}"
   ]
  },
  {
   "cell_type": "code",
   "execution_count": 4,
   "metadata": {},
   "outputs": [
    {
     "data": {
      "text/plain": [
       "{'wine': '紅酒', 'entree': '牛排', 'dessert': '奶酪'}"
      ]
     },
     "execution_count": 4,
     "metadata": {},
     "output_type": "execute_result"
    }
   ],
   "source": [
    "#呼叫的方法\n",
    "#引述位置的呼叫,依參數順序呼叫\n",
    "\n",
    "menu('紅酒','牛排','奶酪')\n"
   ]
  },
  {
   "cell_type": "code",
   "execution_count": 6,
   "metadata": {},
   "outputs": [
    {
     "data": {
      "text/plain": [
       "{'wine': '紅酒', 'entree': '雞排', 'dessert': '霜淇淋'}"
      ]
     },
     "execution_count": 6,
     "metadata": {},
     "output_type": "execute_result"
    }
   ],
   "source": [
    "#引述位置的呼叫,依參數順序呼叫\n",
    "menu('紅酒','雞排','霜淇淋')"
   ]
  },
  {
   "cell_type": "code",
   "execution_count": 7,
   "metadata": {},
   "outputs": [
    {
     "data": {
      "text/plain": [
       "{'wine': '紅酒', 'entree': '雞排', 'dessert': '冰淇淋'}"
      ]
     },
     "execution_count": 7,
     "metadata": {},
     "output_type": "execute_result"
    }
   ],
   "source": [
    "#menu('紅酒','雞排','冰淇淋')\n",
    "#引述名稱的呼叫\n",
    "#可以不依照順序\n",
    "menu(entree='雞排',dessert='冰淇淋',wine='紅酒')"
   ]
  },
  {
   "cell_type": "code",
   "execution_count": 2,
   "metadata": {},
   "outputs": [
    {
     "ename": "NameError",
     "evalue": "name 'menu' is not defined",
     "output_type": "error",
     "traceback": [
      "\u001b[1;31m---------------------------------------------------------------------------\u001b[0m",
      "\u001b[1;31mNameError\u001b[0m                                 Traceback (most recent call last)",
      "\u001b[1;32mc:\\python3810\\lesson11_1.ipynb Cell 5\u001b[0m line \u001b[0;36m4\n\u001b[0;32m      <a href='vscode-notebook-cell:/c%3A/python3810/lesson11_1.ipynb#W4sZmlsZQ%3D%3D?line=0'>1</a>\u001b[0m \u001b[39m#混合呼叫\u001b[39;00m\n\u001b[0;32m      <a href='vscode-notebook-cell:/c%3A/python3810/lesson11_1.ipynb#W4sZmlsZQ%3D%3D?line=1'>2</a>\u001b[0m \u001b[39m#前面一定先用引述位置,後面再使用引述名稱\u001b[39;00m\n\u001b[0;32m      <a href='vscode-notebook-cell:/c%3A/python3810/lesson11_1.ipynb#W4sZmlsZQ%3D%3D?line=2'>3</a>\u001b[0m \u001b[39m#使用引述名稱後,就不可以再用引述位置\u001b[39;00m\n\u001b[1;32m----> <a href='vscode-notebook-cell:/c%3A/python3810/lesson11_1.ipynb#W4sZmlsZQ%3D%3D?line=3'>4</a>\u001b[0m menu(\u001b[39m'\u001b[39m\u001b[39m紅酒\u001b[39m\u001b[39m'\u001b[39m,dessert\u001b[39m=\u001b[39m\u001b[39m'\u001b[39m\u001b[39m霜淇淋\u001b[39m\u001b[39m'\u001b[39m,entree\u001b[39m=\u001b[39m\u001b[39m'\u001b[39m\u001b[39m牛排\u001b[39m\u001b[39m'\u001b[39m)\n",
      "\u001b[1;31mNameError\u001b[0m: name 'menu' is not defined"
     ]
    }
   ],
   "source": [
    "#混合呼叫\n",
    "#前面一定先用引述位置,後面再使用引述名稱\n",
    "#使用引述名稱後,就不可以再用引述位置\n",
    "menu('紅酒',dessert='霜淇淋',entree='牛排')"
   ]
  },
  {
   "cell_type": "code",
   "execution_count": 9,
   "metadata": {},
   "outputs": [
    {
     "ename": "NameError",
     "evalue": "name 'menu' is not defined",
     "output_type": "error",
     "traceback": [
      "\u001b[1;31m---------------------------------------------------------------------------\u001b[0m",
      "\u001b[1;31mNameError\u001b[0m                                 Traceback (most recent call last)",
      "Cell \u001b[1;32mIn[9], line 1\u001b[0m\n\u001b[1;32m----> 1\u001b[0m menu(\u001b[39m'\u001b[39m\u001b[39m紅酒\u001b[39m\u001b[39m'\u001b[39m,\u001b[39m'\u001b[39m\u001b[39m雞排\u001b[39m\u001b[39m'\u001b[39m,dessert\u001b[39m=\u001b[39m\u001b[39m'\u001b[39m\u001b[39m冰淇淋\u001b[39m\u001b[39m'\u001b[39m)\n",
      "\u001b[1;31mNameError\u001b[0m: name 'menu' is not defined"
     ]
    }
   ],
   "source": [
    "menu('紅酒','雞排',dessert='冰淇淋')"
   ]
  },
  {
   "cell_type": "code",
   "execution_count": 3,
   "metadata": {},
   "outputs": [
    {
     "ename": "NameError",
     "evalue": "name 'menu' is not defined",
     "output_type": "error",
     "traceback": [
      "\u001b[1;31m---------------------------------------------------------------------------\u001b[0m",
      "\u001b[1;31mNameError\u001b[0m                                 Traceback (most recent call last)",
      "\u001b[1;32mc:\\python3810\\lesson11_1.ipynb Cell 7\u001b[0m line \u001b[0;36m2\n\u001b[0;32m      <a href='vscode-notebook-cell:/c%3A/python3810/lesson11_1.ipynb#W6sZmlsZQ%3D%3D?line=0'>1</a>\u001b[0m \u001b[39m#最少一定要有2個引數\u001b[39;00m\n\u001b[1;32m----> <a href='vscode-notebook-cell:/c%3A/python3810/lesson11_1.ipynb#W6sZmlsZQ%3D%3D?line=1'>2</a>\u001b[0m menu(\u001b[39m'\u001b[39m\u001b[39m紅酒\u001b[39m\u001b[39m'\u001b[39m,\u001b[39m'\u001b[39m\u001b[39m雞排\u001b[39m\u001b[39m'\u001b[39m)\n",
      "\u001b[1;31mNameError\u001b[0m: name 'menu' is not defined"
     ]
    }
   ],
   "source": [
    "#最少一定要有2個引數\n",
    "menu('紅酒','雞排')"
   ]
  },
  {
   "cell_type": "code",
   "execution_count": 4,
   "metadata": {},
   "outputs": [
    {
     "ename": "NameError",
     "evalue": "name 'menu' is not defined",
     "output_type": "error",
     "traceback": [
      "\u001b[1;31m---------------------------------------------------------------------------\u001b[0m",
      "\u001b[1;31mNameError\u001b[0m                                 Traceback (most recent call last)",
      "\u001b[1;32mc:\\python3810\\lesson11_1.ipynb Cell 8\u001b[0m line \u001b[0;36m1\n\u001b[1;32m----> <a href='vscode-notebook-cell:/c%3A/python3810/lesson11_1.ipynb#X10sZmlsZQ%3D%3D?line=0'>1</a>\u001b[0m menu(\u001b[39m'\u001b[39m\u001b[39m紅酒\u001b[39m\u001b[39m'\u001b[39m,\u001b[39m'\u001b[39m\u001b[39m雞排\u001b[39m\u001b[39m'\u001b[39m,dessert\u001b[39m=\u001b[39m\u001b[39m'\u001b[39m\u001b[39m冰淇淋\u001b[39m\u001b[39m'\u001b[39m)\n",
      "\u001b[1;31mNameError\u001b[0m: name 'menu' is not defined"
     ]
    }
   ],
   "source": [
    "menu('紅酒','雞排',dessert='冰淇淋')"
   ]
  },
  {
   "cell_type": "code",
   "execution_count": 5,
   "metadata": {},
   "outputs": [],
   "source": [
    "#使用*參數,可接收不限數量的位置引數\n",
    "def print_args(*args):\n",
    "    print(f\"引數位置的呼叫args是:{args}\")"
   ]
  },
  {
   "cell_type": "code",
   "execution_count": 6,
   "metadata": {},
   "outputs": [
    {
     "name": "stdout",
     "output_type": "stream",
     "text": [
      "引數位置的呼叫args是:()\n"
     ]
    }
   ],
   "source": [
    "print_args()"
   ]
  },
  {
   "cell_type": "code",
   "execution_count": 7,
   "metadata": {},
   "outputs": [
    {
     "name": "stdout",
     "output_type": "stream",
     "text": [
      "引數位置的呼叫args是:(1, 3, 5, 7, 9)\n"
     ]
    }
   ],
   "source": [
    "print_args(1,3,5,7,9)"
   ]
  },
  {
   "cell_type": "code",
   "execution_count": 8,
   "metadata": {},
   "outputs": [],
   "source": [
    "#使用**參數,可接收不限數量的引數名稱呼叫\n",
    "def print_kwargs(**kwargs):\n",
    "    print(f\"引數位置的呼叫kwargs是:{kwargs}\")"
   ]
  },
  {
   "cell_type": "code",
   "execution_count": 9,
   "metadata": {},
   "outputs": [
    {
     "name": "stdout",
     "output_type": "stream",
     "text": [
      "引數位置的呼叫kwargs是:{}\n"
     ]
    }
   ],
   "source": [
    "print_kwargs()"
   ]
  },
  {
   "cell_type": "code",
   "execution_count": 10,
   "metadata": {},
   "outputs": [
    {
     "name": "stdout",
     "output_type": "stream",
     "text": [
      "引數位置的呼叫kwargs是:{'one': 1, 'two': 2, 'three': 3, 'four': 4}\n"
     ]
    }
   ],
   "source": [
    "#沒有限定數量的引數名稱呼叫\n",
    "print_kwargs(one=1,two=2,three=3,four=4)"
   ]
  },
  {
   "cell_type": "code",
   "execution_count": 14,
   "metadata": {},
   "outputs": [
    {
     "name": "stdout",
     "output_type": "stream",
     "text": [
      "引數位置的呼叫args是:(1, 2, 3, 4)\n",
      "引數位置的呼叫kwargs是:{'five': 5, 'six': 6, 'seven': 7, 'eight': 8}\n"
     ]
    }
   ],
   "source": [
    "def print_wargs_kwargs(*args,**kwargs):\n",
    "    print(f\"引數位置的呼叫args是:{args}\")\n",
    "    print(f\"引數位置的呼叫kwargs是:{kwargs}\")\n",
    "\n",
    "print_wargs_kwargs(1,2,3,4,five=5,six=6,seven=7,eight=8)    "
   ]
  },
  {
   "cell_type": "code",
   "execution_count": 13,
   "metadata": {},
   "outputs": [
    {
     "ename": "NameError",
     "evalue": "name 'print_wargs_kwargs' is not defined",
     "output_type": "error",
     "traceback": [
      "\u001b[1;31m---------------------------------------------------------------------------\u001b[0m",
      "\u001b[1;31mNameError\u001b[0m                                 Traceback (most recent call last)",
      "\u001b[1;32mc:\\python3810\\lesson11_1.ipynb Cell 16\u001b[0m line \u001b[0;36m1\n\u001b[1;32m----> <a href='vscode-notebook-cell:/c%3A/python3810/lesson11_1.ipynb#X21sZmlsZQ%3D%3D?line=0'>1</a>\u001b[0m print_wargs_kwargs()\n",
      "\u001b[1;31mNameError\u001b[0m: name 'print_wargs_kwargs' is not defined"
     ]
    }
   ],
   "source": [
    "print_wargs_kwargs()"
   ]
  }
 ],
 "metadata": {
  "kernelspec": {
   "display_name": "Python 3",
   "language": "python",
   "name": "python3"
  },
  "language_info": {
   "codemirror_mode": {
    "name": "ipython",
    "version": 3
   },
   "file_extension": ".py",
   "mimetype": "text/x-python",
   "name": "python",
   "nbconvert_exporter": "python",
   "pygments_lexer": "ipython3",
   "version": "3.11.7"
  },
  "orig_nbformat": 4,
  "vscode": {
   "interpreter": {
    "hash": "184e67dd3fb2caccf8100ae9ab52bcac6790e5f6b2d1629edfc67a1f6e874630"
   }
  }
 },
 "nbformat": 4,
 "nbformat_minor": 2
}
