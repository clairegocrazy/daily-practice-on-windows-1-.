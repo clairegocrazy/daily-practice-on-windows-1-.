{
 "cells": [
  {
   "cell_type": "code",
   "execution_count": null,
   "metadata": {},
   "outputs": [],
   "source": [
    "import pandas as pd\n",
    "s1=pd.Series([4.5,7.3,-5.3,3.6],index=[a,b,c,d])\n",
    "s1"
   ]
  },
  {
   "cell_type": "code",
   "execution_count": null,
   "metadata": {},
   "outputs": [],
   "source": [
    "#Series.reindex()\n",
    "s1.reindex(['d','b'])"
   ]
  },
  {
   "cell_type": "code",
   "execution_count": null,
   "metadata": {},
   "outputs": [],
   "source": [
    "#dataFrame.reindex()\n",
    "import numpy as pd\n",
    "dataFrame=pd.dataFrame(np.arange(16).reshape((4,4)),\n",
    "                       index=['台北','台中','台南','高雄'],\n",
    "                       columns=['one','two','three','four'])\n",
    "dataFrame"
   ]
  },
  {
   "cell_type": "code",
   "execution_count": null,
   "metadata": {},
   "outputs": [],
   "source": [
    "dataFrame.reindex(index=['台北','高雄'],columns=['one','four'])"
   ]
  },
  {
   "cell_type": "code",
   "execution_count": null,
   "metadata": {},
   "outputs": [],
   "source": [
    "#drop() 移除\n",
    "s2=pd.Series(np.arange(5.0),index=['a','b','c','d','e'])\n",
    "s2.drop(index=['a','c'])"
   ]
  },
  {
   "cell_type": "code",
   "execution_count": null,
   "metadata": {},
   "outputs": [],
   "source": [
    "frame2=pd.dataFrame(np.arange(16).reshape((4,4)),\n",
    "                     index=['台北','台中','台南','高雄'],\n",
    "                     columns=['one','two','three','four'])\n",
    "frame2"
   ]
  },
  {
   "cell_type": "code",
   "execution_count": null,
   "metadata": {},
   "outputs": [],
   "source": [
    "frame2.drop(columns=['two','three'],index=['台中','台南'])"
   ]
  },
  {
   "cell_type": "code",
   "execution_count": null,
   "metadata": {},
   "outputs": [],
   "source": [
    "#dataFrame選取\n",
    "#loc[列,欄],使用名稱\n",
    "#iloc[列,欄],使用索引\n",
    "frame3=pd.dataFrame(np.arange(16).reshape((4,4)),\n",
    "                     index=['台北','台中','台南','高雄'],\n",
    "                     columns=['one','two','three','four'])\n",
    "frame3"
   ]
  },
  {
   "cell_type": "code",
   "execution_count": null,
   "metadata": {},
   "outputs": [],
   "source": [
    "frame3.loc[['台北','台中'],['one','three']]"
   ]
  },
  {
   "cell_type": "code",
   "execution_count": null,
   "metadata": {},
   "outputs": [],
   "source": [
    "frame3.iloc[0:2,[0,2]]"
   ]
  },
  {
   "cell_type": "code",
   "execution_count": null,
   "metadata": {},
   "outputs": [],
   "source": [
    "#重新命名所有欄位\n",
    "frame3.columns=['第1','第2','第3','第4']\n",
    "frame3"
   ]
  },
  {
   "cell_type": "code",
   "execution_count": null,
   "metadata": {},
   "outputs": [],
   "source": [
    "#重新命名所有索引\n",
    "frame3.index=[5,6,7,8]\n",
    "frame3"
   ]
  }
 ],
 "metadata": {
  "language_info": {
   "name": "python"
  }
 },
 "nbformat": 4,
 "nbformat_minor": 2
}
