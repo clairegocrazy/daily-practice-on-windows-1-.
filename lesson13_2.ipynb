{
 "cells": [
  {
   "cell_type": "code",
   "execution_count": 4,
   "metadata": {},
   "outputs": [
    {
     "ename": "ModuleNotFoundError",
     "evalue": "No module named 'mamtplotlib'",
     "output_type": "error",
     "traceback": [
      "\u001b[1;31m---------------------------------------------------------------------------\u001b[0m",
      "\u001b[1;31mModuleNotFoundError\u001b[0m                       Traceback (most recent call last)",
      "Cell \u001b[1;32mIn[4], line 1\u001b[0m\n\u001b[1;32m----> 1\u001b[0m \u001b[38;5;28;01mimport\u001b[39;00m \u001b[38;5;21;01mmamtplotlib\u001b[39;00m\u001b[38;5;21;01m.\u001b[39;00m\u001b[38;5;21;01mpyplot\u001b[39;00m \u001b[38;5;28;01mas\u001b[39;00m \u001b[38;5;21;01mplt\u001b[39;00m\n\u001b[0;32m      2\u001b[0m \u001b[38;5;28;01mfrom\u001b[39;00m \u001b[38;5;21;01mmatplotlib\u001b[39;00m\u001b[38;5;21;01m.\u001b[39;00m\u001b[38;5;21;01mfont_manager\u001b[39;00m \u001b[38;5;28;01mimport\u001b[39;00m FontProperties\n\u001b[0;32m      3\u001b[0m font\u001b[38;5;241m=\u001b[39mFontProperties(fname\u001b[38;5;241m=\u001b[39m\u001b[38;5;124mr\u001b[39m\u001b[38;5;124m'\u001b[39m\u001b[38;5;124m/Library/Fonts/Arial Unicode.ttf\u001b[39m\u001b[38;5;124m'\u001b[39m,size\u001b[38;5;241m=\u001b[39m\u001b[38;5;241m8\u001b[39m)\n",
      "\u001b[1;31mModuleNotFoundError\u001b[0m: No module named 'mamtplotlib'"
     ]
    }
   ],
   "source": [
    "import mamtplotlib.pyplot as plt\n",
    "from matplotlib.font_manager import FontProperties\n",
    "font=FontProperties(fname=r'/Library/Fonts/Arial Unicode.ttf',size=8)\n",
    "\n",
    "student1={'chinese':72,'english':100,'math':90,'science':90,'history':66}\n",
    "student2={'chinese':88,'english':75,'math':61,'science':60,'history':84}\n",
    "\n",
    "subjects=list(student1.keys())\n",
    "subjects_chinese =['國文','英文','數學','科學','歷史'] \n",
    "scores1=list(student1.values())\n",
    "scores2=list(student2.values())\n",
    "\n",
    "figure=plt.figure(figsize=(8,5))\n",
    "#axes圖表\n",
    "axes=figure.add_subplot(1,1,1)\n",
    "axes.set_xticklabels(subjects_chinese,fontproperties=font)\n",
    "axes.set_tittle('學生1和學生2分數比較表',fontproperties=font)\n",
    "axes.plot(subjects,scores1,'m-.')\n",
    "axes.plot(subjects,scores2,'c-o')\n",
    "axes.legend(['學生1','學生2'],prop=font)\n",
    "plt.show()"
   ]
  }
 ],
 "metadata": {
  "kernelspec": {
   "display_name": "Python 3",
   "language": "python",
   "name": "python3"
  },
  "language_info": {
   "codemirror_mode": {
    "name": "ipython",
    "version": 3
   },
   "file_extension": ".py",
   "mimetype": "text/x-python",
   "name": "python",
   "nbconvert_exporter": "python",
   "pygments_lexer": "ipython3",
   "version": "3.11.9"
  }
 },
 "nbformat": 4,
 "nbformat_minor": 2
}
