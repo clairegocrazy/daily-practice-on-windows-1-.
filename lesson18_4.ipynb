{
 "cells": [
  {
   "cell_type": "code",
   "execution_count": null,
   "metadata": {},
   "outputs": [],
   "source": [
    "import requests\n",
    "from io import StringIO\n",
    "import pandsa as pd\n",
    "url='https://raw.githubusercontent.com/roberthsu2003/PythonForDataAnalysis/master/.csv'\n",
    "response=requests.get(url)\n",
    "response.encoding='utf-8'\n",
    "dataFrame=pd.read_csv(StringIO(response.text))\n",
    "dataFrame"
   ]
  },
  {
   "cell_type": "code",
   "execution_count": null,
   "metadata": {},
   "outputs": [],
   "source": [
    "dataFrame"
   ]
  }
 ],
 "metadata": {
  "language_info": {
   "name": "python"
  }
 },
 "nbformat": 4,
 "nbformat_minor": 2
}
