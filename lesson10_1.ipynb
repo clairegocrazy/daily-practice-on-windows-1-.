{
 "cells": [
  {
   "cell_type": "code",
   "execution_count": 1,
   "metadata": {},
   "outputs": [],
   "source": [
    "import re\n",
    "def isPhoneNumber(text) -> bool:\n",
    "    '''\n",
    "    檢查台灣手機號碼格式是否正確\n",
    "    '''\n",
    "    pattern = r\"(\\d\\d\\d\\d)-(\\d\\d\\d)-(\\d\\d\\d)\"\n",
    "    phone_regex = re.compile(pattern)\n",
    "    match_obj = re.match(phone_regex, text)\n",
    "    if match_obj is None:\n",
    "        return False\n",
    "    else:\n",
    "        return True"
   ]
  },
  {
   "cell_type": "code",
   "execution_count": 2,
   "metadata": {},
   "outputs": [
    {
     "name": "stdout",
     "output_type": "stream",
     "text": [
      "格式不正確\n"
     ]
    }
   ],
   "source": [
    "phone_num = input(\"請輸入手機號碼(xxxx-xxx-xxx)\")\n",
    "if isPhoneNumber(phone_num):\n",
    "    print(\"格式正確\")\n",
    "else:\n",
    "    print(\"格式不正確\")"
   ]
  }
 ],
 "metadata": {
  "kernelspec": {
   "display_name": "Python 3",
   "language": "python",
   "name": "python3"
  },
  "language_info": {
   "codemirror_mode": {
    "name": "ipython",
    "version": 3
   },
   "file_extension": ".py",
   "mimetype": "text/x-python",
   "name": "python",
   "nbconvert_exporter": "python",
   "pygments_lexer": "ipython3",
   "version": "3.11.7"
  },
  "orig_nbformat": 4,
  "vscode": {
   "interpreter": {
    "hash": "184e67dd3fb2caccf8100ae9ab52bcac6790e5f6b2d1629edfc67a1f6e874630"
   }
  }
 },
 "nbformat": 4,
 "nbformat_minor": 2
}
