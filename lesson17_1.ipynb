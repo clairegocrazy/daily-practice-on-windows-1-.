{
 "cells": [
  {
   "cell_type": "code",
   "execution_count": null,
   "metadata": {},
   "outputs": [
    {
     "ename": "ModuleNotFoundError",
     "evalue": "No module named 'pandas'",
     "output_type": "error",
     "traceback": [
      "\u001b[1;31m---------------------------------------------------------------------------\u001b[0m",
      "\u001b[1;31mModuleNotFoundError\u001b[0m                       Traceback (most recent call last)",
      "Cell \u001b[1;32mIn[1], line 1\u001b[0m\n\u001b[1;32m----> 1\u001b[0m \u001b[38;5;28;01mimport\u001b[39;00m \u001b[38;5;21;01mpandas\u001b[39;00m \u001b[38;5;28;01mas\u001b[39;00m \u001b[38;5;21;01mpd\u001b[39;00m\n\u001b[0;32m      2\u001b[0m world_dataFrame\u001b[38;5;241m=\u001b[39mpd\u001b[38;5;241m.\u001b[39mread_csv(\u001b[38;5;124m'\u001b[39m\u001b[38;5;124mworld.csv\u001b[39m\u001b[38;5;124m'\u001b[39m)\n\u001b[0;32m      3\u001b[0m world_dataFrame\n",
      "\u001b[1;31mModuleNotFoundError\u001b[0m: No module named 'pandas'"
     ]
    }
   ],
   "source": [
    "import pandas as pd\n",
    "world_dataFrame=pd.read_csv('world.csv')\n",
    "world_dataFrame"
   ]
  },
  {
   "cell_type": "code",
   "execution_count": null,
   "metadata": {},
   "outputs": [],
   "source": [
    "world_dataFrame.reindex(columns=['洲名','國家','日期','總確診數','新增確診數','總人口數','解封指數'])\n",
    "all_data_frame.head(n=10)"
   ]
  },
  {
   "cell_type": "code",
   "execution_count": null,
   "metadata": {},
   "outputs": [],
   "source": [
    "taiwan_bool=[all_data_frame['國家']==\"台灣\"]\n",
    "taiwan_dataFrame=all_data_frame[taiwan_bool]\n",
    "taiwan_dataFrame.tail(n=10)"
   ]
  },
  {
   "cell_type": "code",
   "execution_count": null,
   "metadata": {},
   "outputs": [],
   "source": [
    "taiwan_dataFrame[taiwan_dataFrame['日期']==\"2022-07-02\"]"
   ]
  },
  {
   "cell_type": "code",
   "execution_count": null,
   "metadata": {},
   "outputs": [],
   "source": [
    "taiwan_dataFrame['日期']>='2022-03-07'"
   ]
  },
  {
   "cell_type": "code",
   "execution_count": null,
   "metadata": {},
   "outputs": [],
   "source": [
    "taiwan_dataFrame['日期']<='2022-03-31'"
   ]
  },
  {
   "cell_type": "code",
   "execution_count": null,
   "metadata": {},
   "outputs": [],
   "source": [
    "march_taiwan_bool=(taiwan_dataFrame['日期']>='2022-03-07')&(taiwan_dataFrame['日期']<='2022-03-31')\n",
    "march_taiwan_bool"
   ]
  },
  {
   "cell_type": "code",
   "execution_count": null,
   "metadata": {},
   "outputs": [],
   "source": [
    "#台灣2022-3月份的資料\n",
    "march_taiwan_dataFrame=taiwan_dataFrame[march_taiwan_bool]\n",
    "march_taiwan_dataFrame"
   ]
  },
  {
   "cell_type": "code",
   "execution_count": null,
   "metadata": {},
   "outputs": [],
   "source": [
    "#日本資料\n",
    "japan_dataFrame=all_data_frame.query('國家==\"日本\"')\n",
    "japan_dataFrame"
   ]
  },
  {
   "cell_type": "code",
   "execution_count": null,
   "metadata": {},
   "outputs": [],
   "source": [
    "march_japan_dataFrame=japan_dataFrame.query('日期>=\"2022-03-01\"and 日期<=\"2022-03-31\"')\n",
    "march_japan_dataFrame"
   ]
  },
  {
   "cell_type": "code",
   "execution_count": 1,
   "metadata": {},
   "outputs": [
    {
     "ename": "NameError",
     "evalue": "name 'march_taiwan_dataFrame' is not defined",
     "output_type": "error",
     "traceback": [
      "\u001b[1;31m---------------------------------------------------------------------------\u001b[0m",
      "\u001b[1;31mNameError\u001b[0m                                 Traceback (most recent call last)",
      "Cell \u001b[1;32mIn[1], line 1\u001b[0m\n\u001b[1;32m----> 1\u001b[0m \u001b[43mmarch_taiwan_dataFrame\u001b[49m\n",
      "\u001b[1;31mNameError\u001b[0m: name 'march_taiwan_dataFrame' is not defined"
     ]
    }
   ],
   "source": [
    "march_taiwan_dataFrame"
   ]
  },
  {
   "cell_type": "code",
   "execution_count": null,
   "metadata": {},
   "outputs": [],
   "source": [
    "march_taiwan_dataFrame['日期'].values\n",
    "march_taiwan_dataFrame['新增確診數'].values\n",
    "march_japan_dataFrame['新增確診數'].values"
   ]
  },
  {
   "cell_type": "code",
   "execution_count": null,
   "metadata": {},
   "outputs": [],
   "source": [
    "march_japanAndtaiwan=pd.DataFrame({'台灣確診數':march_taiwan_dataFrame['新增確診數'].values\n",
    "                                   '日本確診數':march_japan_dataFrame['新增確診數'].values\n",
    "                                   },index=march_taiwan_dataFrame['日期'].values)\n",
    "march_japanAndtaiwan"
   ]
  },
  {
   "cell_type": "code",
   "execution_count": null,
   "metadata": {},
   "outputs": [],
   "source": [
    "import matplotlib.pyplot as plt\n",
    "figure=plt.figure(figsize=(8,5))\n",
    "axes=figure.add_subplot(1,1,1)\n",
    "axes.plot(march_japanAndtaiwan.index.values,march_japanAndtaiwan['台灣確診數'].values,'b--')\n",
    "axes.plot(march_japanAndtaiwan.index.values,march_japanAndtaiwan['日本確診數'].values,'r-.')\n",
    "axes.set_yscale('log')\n",
    "plt.show()"
   ]
  }
 ],
 "metadata": {
  "kernelspec": {
   "display_name": "Python 3",
   "language": "python",
   "name": "python3"
  },
  "language_info": {
   "codemirror_mode": {
    "name": "ipython",
    "version": 3
   },
   "file_extension": ".py",
   "mimetype": "text/x-python",
   "name": "python",
   "nbconvert_exporter": "python",
   "pygments_lexer": "ipython3",
   "version": "3.11.9"
  }
 },
 "nbformat": 4,
 "nbformat_minor": 2
}
