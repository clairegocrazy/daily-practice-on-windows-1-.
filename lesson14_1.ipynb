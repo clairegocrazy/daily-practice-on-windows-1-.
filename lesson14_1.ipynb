{
 "cells": [
  {
   "cell_type": "code",
   "execution_count": 9,
   "metadata": {},
   "outputs": [
    {
     "ename": "ModuleNotFoundError",
     "evalue": "No module named 'matplotlib'",
     "output_type": "error",
     "traceback": [
      "\u001b[1;31m---------------------------------------------------------------------------\u001b[0m",
      "\u001b[1;31mModuleNotFoundError\u001b[0m                       Traceback (most recent call last)",
      "Cell \u001b[1;32mIn[9], line 1\u001b[0m\n\u001b[1;32m----> 1\u001b[0m \u001b[38;5;28;01mimport\u001b[39;00m \u001b[38;5;21;01mmatplotlib\u001b[39;00m\u001b[38;5;21;01m.\u001b[39;00m\u001b[38;5;21;01mpyplot\u001b[39;00m \u001b[38;5;28;01mas\u001b[39;00m \u001b[38;5;21;01mplt\u001b[39;00m\n\u001b[0;32m      2\u001b[0m subject\u001b[38;5;241m=\u001b[39m[\u001b[38;5;124m'\u001b[39m\u001b[38;5;124mapple\u001b[39m\u001b[38;5;124m'\u001b[39m,\u001b[38;5;124m'\u001b[39m\u001b[38;5;124mbanana\u001b[39m\u001b[38;5;124m'\u001b[39m,\u001b[38;5;124m'\u001b[39m\u001b[38;5;124morange\u001b[39m\u001b[38;5;124m'\u001b[39m,\u001b[38;5;124m'\u001b[39m\u001b[38;5;124mtomato\u001b[39m\u001b[38;5;124m'\u001b[39m,\u001b[38;5;124m'\u001b[39m\u001b[38;5;124mguava\u001b[39m\u001b[38;5;124m'\u001b[39m]\n\u001b[0;32m      3\u001b[0m values\u001b[38;5;241m=\u001b[39m[\u001b[38;5;241m5000\u001b[39m,\u001b[38;5;241m6000\u001b[39m,\u001b[38;5;241m7000\u001b[39m,\u001b[38;5;241m8000\u001b[39m,\u001b[38;5;241m9000\u001b[39m]\n",
      "\u001b[1;31mModuleNotFoundError\u001b[0m: No module named 'matplotlib'"
     ]
    }
   ],
   "source": [
    "import matplotlib.pyplot as plt\n",
    "subject=['apple','banana','orange','tomato','guava']\n",
    "values=[5000,6000,7000,8000,9000]\n",
    "index=[3,4,5,6,7]\n",
    "\n",
    "figure=plt.figure()\n",
    "axes=figure.add_subplot()\n",
    "axes.bar(index,values)\n",
    "axes.set_xticks(index,labels=subject)\n",
    "axes.annotate('5000',(3-0.15,5000+100))\n",
    "for idx,i in enumerate(index):\n",
    "    yValue=values[idx]\n",
    "    xValue=i\n",
    "    axes.annotate(str(yValue),(xValue-1.15,yValue+100))\n",
    "    xmin,xmax,ymin,ymax=axes.axis()\n",
    "    xmin -=0.2\n",
    "    xmax +=0.2\n",
    "    ymin=3000\n",
    "    ymax +=500\n",
    "    axes.axis(xmin=xmin,xmax=xmax,ymin=ymin,ymax=ymax)\n",
    "plt.show()\n",
    "\n"
   ]
  },
  {
   "cell_type": "code",
   "execution_count": 4,
   "metadata": {},
   "outputs": [
    {
     "ename": "NameError",
     "evalue": "name 'plt' is not defined",
     "output_type": "error",
     "traceback": [
      "\u001b[1;31m---------------------------------------------------------------------------\u001b[0m",
      "\u001b[1;31mNameError\u001b[0m                                 Traceback (most recent call last)",
      "Cell \u001b[1;32mIn[4], line 5\u001b[0m\n\u001b[0;32m      2\u001b[0m values\u001b[38;5;241m=\u001b[39m[\u001b[38;5;241m20\u001b[39m,\u001b[38;5;241m30\u001b[39m,\u001b[38;5;241m45\u001b[39m,\u001b[38;5;241m10\u001b[39m]\n\u001b[0;32m      3\u001b[0m colors\u001b[38;5;241m=\u001b[39m[\u001b[38;5;124m'\u001b[39m\u001b[38;5;124myellow\u001b[39m\u001b[38;5;124m'\u001b[39m,\u001b[38;5;124m'\u001b[39m\u001b[38;5;124mgreen\u001b[39m\u001b[38;5;124m'\u001b[39m,\u001b[38;5;124m'\u001b[39m\u001b[38;5;124mred\u001b[39m\u001b[38;5;124m'\u001b[39m,\u001b[38;5;124m'\u001b[39m\u001b[38;5;124mblue\u001b[39m\u001b[38;5;124m'\u001b[39m]\n\u001b[1;32m----> 5\u001b[0m figure\u001b[38;5;241m=\u001b[39m\u001b[43mplt\u001b[49m\u001b[38;5;241m.\u001b[39mfigure()\n\u001b[0;32m      6\u001b[0m axes\u001b[38;5;241m=\u001b[39mfigure\u001b[38;5;241m.\u001b[39madd_subplot()\n\u001b[0;32m      7\u001b[0m axes\u001b[38;5;241m.\u001b[39mpie(values,labels\u001b[38;5;241m=\u001b[39mlabels,colors\u001b[38;5;241m=\u001b[39mcolors)\n",
      "\u001b[1;31mNameError\u001b[0m: name 'plt' is not defined"
     ]
    }
   ],
   "source": [
    "labels=['Nokia','Samsung','Apple','Lumia']\n",
    "values=[20,30,45,10]\n",
    "colors=['yellow','green','red','blue']\n",
    "\n",
    "figure=plt.figure()\n",
    "axes=figure.add_subplot()\n",
    "axes.pie(values,labels=labels,colors=colors)\n",
    "plt.show()"
   ]
  },
  {
   "cell_type": "code",
   "execution_count": 5,
   "metadata": {},
   "outputs": [
    {
     "ename": "NameError",
     "evalue": "name 'plt' is not defined",
     "output_type": "error",
     "traceback": [
      "\u001b[1;31m---------------------------------------------------------------------------\u001b[0m",
      "\u001b[1;31mNameError\u001b[0m                                 Traceback (most recent call last)",
      "Cell \u001b[1;32mIn[5], line 5\u001b[0m\n\u001b[0;32m      2\u001b[0m values\u001b[38;5;241m=\u001b[39m[\u001b[38;5;241m20\u001b[39m,\u001b[38;5;241m30\u001b[39m,\u001b[38;5;241m45\u001b[39m,\u001b[38;5;241m10\u001b[39m]\n\u001b[0;32m      3\u001b[0m colors\u001b[38;5;241m=\u001b[39m[\u001b[38;5;124m'\u001b[39m\u001b[38;5;124myellow\u001b[39m\u001b[38;5;124m'\u001b[39m,\u001b[38;5;124m'\u001b[39m\u001b[38;5;124mgreen\u001b[39m\u001b[38;5;124m'\u001b[39m,\u001b[38;5;124m'\u001b[39m\u001b[38;5;124mred\u001b[39m\u001b[38;5;124m'\u001b[39m,\u001b[38;5;124m'\u001b[39m\u001b[38;5;124mblue\u001b[39m\u001b[38;5;124m'\u001b[39m]\n\u001b[1;32m----> 5\u001b[0m figure\u001b[38;5;241m=\u001b[39m\u001b[43mplt\u001b[49m\u001b[38;5;241m.\u001b[39mfigure()\n\u001b[0;32m      6\u001b[0m axes\u001b[38;5;241m=\u001b[39mfigure\u001b[38;5;241m.\u001b[39madd_subplot()\n\u001b[0;32m      7\u001b[0m axes\u001b[38;5;241m.\u001b[39mpie(values,labels\u001b[38;5;241m=\u001b[39mlabels,colors\u001b[38;5;241m=\u001b[39mcolors,explode\u001b[38;5;241m=\u001b[39m[\u001b[38;5;241m0.3\u001b[39m,\u001b[38;5;241m0\u001b[39m,\u001b[38;5;241m0\u001b[39m,\u001b[38;5;241m0\u001b[39m],startangle\u001b[38;5;241m=\u001b[39m\u001b[38;5;241m180\u001b[39m,shadow\u001b[38;5;241m=\u001b[39m\u001b[38;5;28;01mTrue\u001b[39;00m,autopct\u001b[38;5;241m=\u001b[39m\u001b[38;5;124m'\u001b[39m\u001b[38;5;132;01m%.2f\u001b[39;00m\u001b[38;5;132;01m%%\u001b[39;00m\u001b[38;5;124m'\u001b[39m)\n",
      "\u001b[1;31mNameError\u001b[0m: name 'plt' is not defined"
     ]
    }
   ],
   "source": [
    "labels=['Nokia','Samsung','Apple','Lumia']\n",
    "values=[20,30,45,10]\n",
    "colors=['yellow','green','red','blue']\n",
    "\n",
    "figure=plt.figure()\n",
    "axes=figure.add_subplot()\n",
    "axes.pie(values,labels=labels,colors=colors,explode=[0.3,0,0,0],startangle=180,shadow=True,autopct='%.2f%%')\n",
    "plt.show()"
   ]
  }
 ],
 "metadata": {
  "kernelspec": {
   "display_name": "Python 3",
   "language": "python",
   "name": "python3"
  },
  "language_info": {
   "codemirror_mode": {
    "name": "ipython",
    "version": 3
   },
   "file_extension": ".py",
   "mimetype": "text/x-python",
   "name": "python",
   "nbconvert_exporter": "python",
   "pygments_lexer": "ipython3",
   "version": "3.11.9"
  }
 },
 "nbformat": 4,
 "nbformat_minor": 2
}
