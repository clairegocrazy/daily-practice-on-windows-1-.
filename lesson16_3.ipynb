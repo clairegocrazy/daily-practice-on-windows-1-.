{
 "cells": [
  {
   "cell_type": "code",
   "execution_count": 1,
   "metadata": {},
   "outputs": [
    {
     "ename": "ModuleNotFoundError",
     "evalue": "No module named 'pandas'",
     "output_type": "error",
     "traceback": [
      "\u001b[1;31m---------------------------------------------------------------------------\u001b[0m",
      "\u001b[1;31mModuleNotFoundError\u001b[0m                       Traceback (most recent call last)",
      "Cell \u001b[1;32mIn[1], line 1\u001b[0m\n\u001b[1;32m----> 1\u001b[0m \u001b[38;5;28;01mimport\u001b[39;00m \u001b[38;5;21;01mpandas\u001b[39;00m \u001b[38;5;28;01mas\u001b[39;00m \u001b[38;5;21;01mpd\u001b[39;00m\n\u001b[0;32m      2\u001b[0m url\u001b[38;5;241m=\u001b[39m\u001b[38;5;124m'\u001b[39m\u001b[38;5;124mhttps://raw.githubusercontent.com/roberthsu2003/PythonForDataAnalysis/master/pandas\u001b[39m\u001b[38;5;132;01m%E\u001b[39;00m\u001b[38;5;124m7\u001b[39m\u001b[38;5;124m%\u001b[39m\u001b[38;5;124m9A\u001b[39m\u001b[38;5;132;01m%84%\u001b[39;00m\u001b[38;5;124mE5\u001b[39m\u001b[38;5;132;01m%9F\u001b[39;00m\u001b[38;5;124m%\u001b[39m\u001b[38;5;124mBA\u001b[39m\u001b[38;5;132;01m%E\u001b[39;00m\u001b[38;5;124m7\u001b[39m\u001b[38;5;124m%\u001b[39m\u001b[38;5;124mA4\u001b[39m\u001b[38;5;132;01m%8E\u001b[39;00m\u001b[38;5;132;01m%E\u001b[39;00m\u001b[38;5;124m5\u001b[39m\u001b[38;5;124m%\u001b[39m\u001b[38;5;124m8A\u001b[39m\u001b[38;5;132;01m%9F\u001b[39;00m\u001b[38;5;132;01m%E\u001b[39;00m\u001b[38;5;124m8\u001b[39m\u001b[38;5;132;01m%83%\u001b[39;00m\u001b[38;5;124mBD/\u001b[39m\u001b[38;5;132;01m%E\u001b[39;00m\u001b[38;5;124m5\u001b[39m\u001b[38;5;132;01m%90%\u001b[39;00m\u001b[38;5;124m84\u001b[39m\u001b[38;5;132;01m%E\u001b[39;00m\u001b[38;5;124m9\u001b[39m\u001b[38;5;132;01m%84%\u001b[39;00m\u001b[38;5;124m89\u001b[39m\u001b[38;5;132;01m%E\u001b[39;00m\u001b[38;5;124m9\u001b[39m\u001b[38;5;132;01m%8E\u001b[39;00m\u001b[38;5;124m%\u001b[39m\u001b[38;5;124mAE\u001b[39m\u001b[38;5;132;01m%E\u001b[39;00m\u001b[38;5;124m5\u001b[39m\u001b[38;5;124m%\u001b[39m\u001b[38;5;124mB8\u001b[39m\u001b[38;5;132;01m%82%\u001b[39;00m\u001b[38;5;124mE5\u001b[39m\u001b[38;5;124m%\u001b[39m\u001b[38;5;124m8D\u001b[39m\u001b[38;5;132;01m%80%\u001b[39;00m\u001b[38;5;124mE4\u001b[39m\u001b[38;5;124m%\u001b[39m\u001b[38;5;124mBA\u001b[39m\u001b[38;5;124m%\u001b[39m\u001b[38;5;124mBA\u001b[39m\u001b[38;5;132;01m%E\u001b[39;00m\u001b[38;5;124m5\u001b[39m\u001b[38;5;132;01m%8F\u001b[39;00m\u001b[38;5;124m%\u001b[39m\u001b[38;5;124mA3\u001b[39m\u001b[38;5;132;01m%E\u001b[39;00m\u001b[38;5;124m5\u001b[39m\u001b[38;5;124m%\u001b[39m\u001b[38;5;124mAF\u001b[39m\u001b[38;5;132;01m%86%\u001b[39;00m\u001b[38;5;124mE5\u001b[39m\u001b[38;5;124m%\u001b[39m\u001b[38;5;124mBA\u001b[39m\u001b[38;5;124m%\u001b[39m\u001b[38;5;124mA6.csv\u001b[39m\u001b[38;5;124m'\u001b[39m\n\u001b[0;32m      3\u001b[0m frame1\u001b[38;5;241m=\u001b[39mpd\u001b[38;5;241m.\u001b[39mread_csv(url)\n",
      "\u001b[1;31mModuleNotFoundError\u001b[0m: No module named 'pandas'"
     ]
    }
   ],
   "source": [
    "import pandas as pd\n",
    "url='https://raw.githubusercontent.com/roberthsu2003/PythonForDataAnalysis/master/pandas%E7%9A%84%E5%9F%BA%E7%A4%8E%E5%8A%9F%E8%83%BD/%E5%90%84%E9%84%89%E9%8E%AE%E5%B8%82%E5%8D%80%E4%BA%BA%E5%8F%A3%E5%AF%86%E5%BA%A6.csv'\n",
    "frame1=pd.read_csv(url)\n",
    "frame1"
   ]
  },
  {
   "cell_type": "code",
   "execution_count": null,
   "metadata": {},
   "outputs": [],
   "source": [
    "#取出索引0的Series\n",
    "columns_name=frame1.iloc[0]\n",
    "#改變欄的名稱\n",
    "frame1.columns=columns_name\n",
    "#刪除索引0的Series\n",
    "frame2=frame1.drop(index=0)\n",
    "frame2"
   ]
  },
  {
   "cell_type": "code",
   "execution_count": null,
   "metadata": {},
   "outputs": [],
   "source": [
    "#檢查frame2後十筆資料\n",
    "frame2.tail(n=10)"
   ]
  },
  {
   "cell_type": "code",
   "execution_count": null,
   "metadata": {},
   "outputs": [],
   "source": [
    "#刪除index(369-375)\n",
    "frame2.drop(index=[369,370,371,372,373,374,375])"
   ]
  },
  {
   "cell_type": "code",
   "execution_count": null,
   "metadata": {},
   "outputs": [],
   "source": [
    "#使用reindex()\n",
    "frame2.reindex(index=[1,368])"
   ]
  },
  {
   "cell_type": "code",
   "execution_count": null,
   "metadata": {},
   "outputs": [],
   "source": [
    "final_frame=frame2.loc[1:368]\n",
    "final_frame"
   ]
  },
  {
   "cell_type": "code",
   "execution_count": null,
   "metadata": {},
   "outputs": [],
   "source": [
    "#依據內容搜尋資料\n",
    "bool_series=final_frame['區域別']=='新北市三重區'\n",
    "final_frame[bool_series]"
   ]
  },
  {
   "cell_type": "code",
   "execution_count": null,
   "metadata": {},
   "outputs": [],
   "source": [
    "bool_series1=final_frame['區域別']=='新北市三重區'\n",
    "bool_series2=final_frame['區域別']=='新北市中和區'\n",
    "bool_series1 | bool_series2"
   ]
  },
  {
   "cell_type": "code",
   "execution_count": null,
   "metadata": {},
   "outputs": [],
   "source": [
    "#建立使用bool的Series\n",
    "bool_series3=(final_frame['區域別']=='新北市三重區') | (final_frame['區域別']=='新北市中和區')\n",
    "final_frame[bool_series3]"
   ]
  },
  {
   "cell_type": "code",
   "execution_count": null,
   "metadata": {},
   "outputs": [],
   "source": [
    "#dataFrame的query(字串)\n",
    "final_frame.query(\"區域別=='新北市三重區' or 區域別=='新北市中和區'\")"
   ]
  }
 ],
 "metadata": {
  "kernelspec": {
   "display_name": "Python 3",
   "language": "python",
   "name": "python3"
  },
  "language_info": {
   "codemirror_mode": {
    "name": "ipython",
    "version": 3
   },
   "file_extension": ".py",
   "mimetype": "text/x-python",
   "name": "python",
   "nbconvert_exporter": "python",
   "pygments_lexer": "ipython3",
   "version": "3.11.9"
  }
 },
 "nbformat": 4,
 "nbformat_minor": 2
}
